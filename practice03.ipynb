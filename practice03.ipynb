{
 "cells": [
  {
   "cell_type": "code",
   "execution_count": 1,
   "metadata": {},
   "outputs": [],
   "source": [
    "#여러개 가져오기 div단위로 찾을듯\n",
    "\n",
    "import requests\n",
    "from bs4 import BeautifulSoup\n",
    "response = requests.get(\"https://startcoding.pythonanywhere.com/basic\")\n",
    "response.status_code\n",
    "html = response.text\n",
    "soup = BeautifulSoup(html,\"html.parser\")"
   ]
  },
  {
   "cell_type": "code",
   "execution_count": 14,
   "metadata": {},
   "outputs": [
    {
     "name": "stdout",
     "output_type": "stream",
     "text": [
      "10\n",
      "노트북/에이서 스위프트 GO 16 OLED, 스틸 그레이, 코어i7, 512GB, 16GB, WIN11 Home, SFG16-71-77FT/#product1_detail.html/1,419,000원\n",
      "노트북/삼성전자 노트북 플러스2 15.6, 퓨어 화이트, NT550XDA-K24AT, 펜티엄, 256GB, 8GB, WIN11 Pro/#product2_detail.html/549,000원\n",
      "노트북/레노버 아이디어패드 슬림 1 15AMN7 15.6, 256GB, Free DOS, 82VG002EKR, 라이젠3, Cloud Grey (82VG), 8GB/#product3_detail.html/529,000원\n",
      "노트북/레노버 V15 G4 AMN 15.6, Arctic Grey, 라이젠3, 256GB, 8GB, WIN11 Home, 82YU0009KR/#product4_detail.html/624,000원\n",
      "노트북/LG 울트라PC 엣지 16, 차콜 그레이, 라이젠5, 256GB, 16GB, WIN11 Home, 16U70R-GA56K/#product5_detail.html/1,135,000원\n",
      "노트북/베이직스 베이직북 14 3세대, BB1422SS, 256GB, White, WIN11 Pro, 셀러론, 8GB/#product6_detail.html/398,000원\n",
      "노트북/레노버 아이디어패드 슬림 5i 14IRL 14, Cloud Grey, 코어i5, 512GB, 16GB, Free DOS, 82XD002XKR/#product7_detail.html/899,000원\n",
      "노트북/레노버 아이디어패드 슬림 5 16IRL 16, Cloud Grey, 512GB, 16GB, Free DOS, 82XF001RKR/#product8_detail.html/929,000원\n",
      "노트북/에이서 스위프트 GO 16 OLED, 스틸 그레이, 코어i5, 512GB, 16GB, Free DOS, SFG16-71-51BY/#product9_detail.html/1,008,000원\n",
      "노트북/삼성전자 갤럭시북 2 15.6, 500GB, 실버, NT550XED-K78AS, 코어i7, 16GB, WIN11 Home/#product10_detail.html/1,149,000원\n"
     ]
    }
   ],
   "source": [
    "items = soup.select(\".product\")\n",
    "print(len(soup.select(\".product\")))\n",
    "for item in items:\n",
    "    category = item.select_one(\".product-category\").text\n",
    "    name = item.select_one(\".product-name\").text\n",
    "    link = item.select_one(\".product-name > a\").attrs['href']\n",
    "    price = item.select_one(\".product-price\").text.split('원')[0]   #콤마 없애고 싶으면 replace 사용하기 \n",
    "    #원가 없애기 \n",
    "\n",
    "    print(f'{category}/{name}/{link}/{price}원')\n",
    "    \n",
    "      \n",
    "    \n",
    "#col-md-4 col-xs-6 이렇게 생긴 선택자 있었는데 공백 없애고 . 찍어줘야 한다! \n",
    "\n"
   ]
  },
  {
   "cell_type": "code",
   "execution_count": null,
   "metadata": {},
   "outputs": [],
   "source": [
    "# 여러 페이지 크롤링하기 \n",
    "\n",
    "#url(uniform resource locator) 인터넷 주소형식 \n",
    "#protocol + domain + path + parameter 로 구성 \n",
    "#파라미터는 서버에 추가 정보를 제공하며 key,value로 구성되어 있다. &로 구분함 \n",
    "\n",
    "\n",
    "#페이징 알고리즘 \n",
    "#페이지가 바뀌면서 url이 변경되는 부분을 찾자 \n",
    "\n"
   ]
  },
  {
   "cell_type": "code",
   "execution_count": null,
   "metadata": {},
   "outputs": [],
   "source": []
  }
 ],
 "metadata": {
  "kernelspec": {
   "display_name": "PythonEx",
   "language": "python",
   "name": "python3"
  },
  "language_info": {
   "codemirror_mode": {
    "name": "ipython",
    "version": 3
   },
   "file_extension": ".py",
   "mimetype": "text/x-python",
   "name": "python",
   "nbconvert_exporter": "python",
   "pygments_lexer": "ipython3",
   "version": "3.10.14"
  }
 },
 "nbformat": 4,
 "nbformat_minor": 2
}
