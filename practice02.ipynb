{
 "cells": [
  {
   "cell_type": "code",
   "execution_count": 1,
   "metadata": {},
   "outputs": [
    {
     "data": {
      "text/plain": [
       "200"
      ]
     },
     "execution_count": 1,
     "metadata": {},
     "output_type": "execute_result"
    }
   ],
   "source": [
    "import requests\n",
    "from bs4 import BeautifulSoup\n",
    "response = requests.get(\"https://startcoding.pythonanywhere.com/basic\")\n",
    "response.status_code"
   ]
  },
  {
   "cell_type": "code",
   "execution_count": 3,
   "metadata": {},
   "outputs": [],
   "source": [
    "html = response.text\n",
    "soup = BeautifulSoup(html,\"html.parser\")"
   ]
  },
  {
   "cell_type": "code",
   "execution_count": 33,
   "metadata": {},
   "outputs": [
    {
     "data": {
      "text/plain": [
       "{'class': ['product-category']}"
      ]
     },
     "execution_count": 33,
     "metadata": {},
     "output_type": "execute_result"
    }
   ],
   "source": [
    "#한개만 가져오기(카테고리)\n",
    "soup.select_one(\".product-category\")\n",
    "category = soup.select_one(\".product-category\").text\n",
    "soup.select_one(\".product-category\").attrs  "
   ]
  },
  {
   "cell_type": "code",
   "execution_count": 34,
   "metadata": {},
   "outputs": [
    {
     "data": {
      "text/plain": [
       "[<h3 class=\"product-name\"><a href=\"#product1_detail.html\">에이서 스위프트 GO 16 OLED, 스틸 그레이, 코어i7, 512GB, 16GB, WIN11 Home, SFG16-71-77FT</a></h3>,\n",
       " <h3 class=\"product-name\"><a href=\"#product2_detail.html\">삼성전자 노트북 플러스2 15.6, 퓨어 화이트, NT550XDA-K24AT, 펜티엄, 256GB, 8GB, WIN11 Pro</a></h3>,\n",
       " <h3 class=\"product-name\"><a href=\"#product3_detail.html\">레노버 아이디어패드 슬림 1 15AMN7 15.6, 256GB, Free DOS, 82VG002EKR, 라이젠3, Cloud Grey (82VG), 8GB</a></h3>,\n",
       " <h3 class=\"product-name\"><a href=\"#product4_detail.html\">레노버 V15 G4 AMN 15.6, Arctic Grey, 라이젠3, 256GB, 8GB, WIN11 Home, 82YU0009KR</a></h3>,\n",
       " <h3 class=\"product-name\"><a href=\"#product5_detail.html\">LG 울트라PC 엣지 16, 차콜 그레이, 라이젠5, 256GB, 16GB, WIN11 Home, 16U70R-GA56K</a></h3>,\n",
       " <h3 class=\"product-name\"><a href=\"#product6_detail.html\">베이직스 베이직북 14 3세대, BB1422SS, 256GB, White, WIN11 Pro, 셀러론, 8GB</a></h3>,\n",
       " <h3 class=\"product-name\"><a href=\"#product7_detail.html\">레노버 아이디어패드 슬림 5i 14IRL 14, Cloud Grey, 코어i5, 512GB, 16GB, Free DOS, 82XD002XKR</a></h3>,\n",
       " <h3 class=\"product-name\"><a href=\"#product8_detail.html\">레노버 아이디어패드 슬림 5 16IRL 16, Cloud Grey, 512GB, 16GB, Free DOS, 82XF001RKR</a></h3>,\n",
       " <h3 class=\"product-name\"><a href=\"#product9_detail.html\">에이서 스위프트 GO 16 OLED, 스틸 그레이, 코어i5, 512GB, 16GB, Free DOS, SFG16-71-51BY</a></h3>,\n",
       " <h3 class=\"product-name\"><a href=\"#product10_detail.html\">삼성전자 갤럭시북 2 15.6, 500GB, 실버, NT550XED-K78AS, 코어i7, 16GB, WIN11 Home</a></h3>]"
      ]
     },
     "execution_count": 34,
     "metadata": {},
     "output_type": "execute_result"
    }
   ],
   "source": [
    "#한개만 가져오기(상품명 가져오기)\n",
    "name = soup.select_one(\".product-name\").text\n",
    "\n",
    "#그 아래에 있는 a태그 가져오기(자식태그)\n",
    "soup.select_one(\".product-name > a\").attrs\n",
    "soup.select_one(\".product-name > a\").attrs['href']\n",
    "\n",
    "\n",
    "soup.select_one(\".product-price\").text  #공백문자가 많이 붙어있다.\n",
    "#제거하는 법 \n",
    "\n",
    "soup.select_one(\".product-price\").text.strip()  #strip 메서드 활용하여 앞뒤 공백 제거하기 \n",
    "price = soup.select_one(\".product-price\").text.strip().replace(\",\",\"\").replace(\"원\",\"\")\n",
    "\n",
    "soup.select(\".product-name\")"
   ]
  },
  {
   "cell_type": "code",
   "execution_count": 35,
   "metadata": {},
   "outputs": [],
   "source": [
    "def print_product():\n",
    "    print(f'카테고리 : {category}, 상품명 : {name}, 가격 : {price}')"
   ]
  },
  {
   "cell_type": "code",
   "execution_count": 36,
   "metadata": {},
   "outputs": [
    {
     "name": "stdout",
     "output_type": "stream",
     "text": [
      "카테고리 : 노트북, 상품명 : 에이서 스위프트 GO 16 OLED, 스틸 그레이, 코어i7, 512GB, 16GB, WIN11 Home, SFG16-71-77FT, 가격 : 1419000\n"
     ]
    }
   ],
   "source": [
    "print_product()"
   ]
  }
 ],
 "metadata": {
  "kernelspec": {
   "display_name": "PythonEx",
   "language": "python",
   "name": "python3"
  },
  "language_info": {
   "codemirror_mode": {
    "name": "ipython",
    "version": 3
   },
   "file_extension": ".py",
   "mimetype": "text/x-python",
   "name": "python",
   "nbconvert_exporter": "python",
   "pygments_lexer": "ipython3",
   "version": "3.10.14"
  }
 },
 "nbformat": 4,
 "nbformat_minor": 2
}
